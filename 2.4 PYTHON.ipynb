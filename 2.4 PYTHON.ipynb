{
 "cells": [
  {
   "cell_type": "code",
   "execution_count": 1,
   "id": "71c89b40-1347-4389-8a51-0bc3299931f0",
   "metadata": {},
   "outputs": [
    {
     "data": {
      "text/plain": [
       "[{'name': 'Kamil', 'country': 'Poland'}]"
      ]
     },
     "execution_count": 1,
     "metadata": {},
     "output_type": "execute_result"
    }
   ],
   "source": [
    "#TASK 1\n",
    "users = [{\"name\": \"Kamil\", \"country\":\"Poland\", {\"name\":\"John\", \"country\": \"USA\"}, {\"name\": \"Yeti\"}]\n",
    "users_from_poland = [user for user in users if user.get('country') == 'Poland']\n",
    "users_from_poland"
   ]
  },
  {
   "cell_type": "code",
   "execution_count": 3,
   "id": "4ce65602-d020-452b-8c1a-d1316202bcc0",
   "metadata": {},
   "outputs": [
    {
     "data": {
      "text/plain": [
       "[1, 4, 1, 23, 12, 2, 3, 1, 2, 31]"
      ]
     },
     "execution_count": 3,
     "metadata": {},
     "output_type": "execute_result"
    }
   ],
   "source": [
    "#TASK 2\n",
    "numbers = [1,5,2,3,1,4,1,23,12,2,3,1,2,31,23,1,2,3,1,23,1,2,3,123]\n",
    "sum_of_ten_elements = sum(numbers[4:14])\n",
    "sum_of_ten_elements\n",
    "numbers[4:14]"
   ]
  },
  {
   "cell_type": "code",
   "execution_count": null,
   "id": "fcbaad2f-987d-42f4-b515-b66e1cf548e5",
   "metadata": {},
   "outputs": [],
   "source": []
  }
 ],
 "metadata": {
  "kernelspec": {
   "display_name": "Python 3 (ipykernel)",
   "language": "python",
   "name": "python3"
  },
  "language_info": {
   "codemirror_mode": {
    "name": "ipython",
    "version": 3
   },
   "file_extension": ".py",
   "mimetype": "text/x-python",
   "name": "python",
   "nbconvert_exporter": "python",
   "pygments_lexer": "ipython3",
   "version": "3.11.7"
  }
 },
 "nbformat": 4,
 "nbformat_minor": 5
}
